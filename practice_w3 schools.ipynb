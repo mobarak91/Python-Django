{
  "nbformat": 4,
  "nbformat_minor": 0,
  "metadata": {
    "colab": {
      "provenance": [],
      "authorship_tag": "ABX9TyNnEmVRExCh+Pr0wNrbOh8N",
      "include_colab_link": true
    },
    "kernelspec": {
      "name": "python3",
      "display_name": "Python 3"
    },
    "language_info": {
      "name": "python"
    }
  },
  "cells": [
    {
      "cell_type": "markdown",
      "metadata": {
        "id": "view-in-github",
        "colab_type": "text"
      },
      "source": [
        "<a href=\"https://colab.research.google.com/github/mobarak91/Python-Django/blob/main/practice_w3%20schools.ipynb\" target=\"_parent\"><img src=\"https://colab.research.google.com/assets/colab-badge.svg\" alt=\"Open In Colab\"/></a>"
      ]
    },
    {
      "cell_type": "markdown",
      "source": [
        "print hello"
      ],
      "metadata": {
        "id": "ZUVgk2Md8fMY"
      }
    },
    {
      "cell_type": "code",
      "execution_count": 1,
      "metadata": {
        "colab": {
          "base_uri": "https://localhost:8080/"
        },
        "id": "KzPlOKa38Ph5",
        "outputId": "332739c0-9957-4bdd-b694-f5adcc8fce56"
      },
      "outputs": [
        {
          "output_type": "stream",
          "name": "stdout",
          "text": [
            "I am Md. Mobarak Hossain\n"
          ]
        }
      ],
      "source": [
        "print(\"I am Md. Mobarak Hossain\")"
      ]
    },
    {
      "cell_type": "markdown",
      "source": [
        "indentation"
      ],
      "metadata": {
        "id": "_7DxsMqP8dxk"
      }
    },
    {
      "cell_type": "code",
      "source": [
        "if 5>2:\n",
        "  print(\"Five is greater than two!\")"
      ],
      "metadata": {
        "colab": {
          "base_uri": "https://localhost:8080/"
        },
        "id": "3clr-v2T9D5p",
        "outputId": "c2d1cd38-37c6-4972-c5be-bd296e6ec9c6"
      },
      "execution_count": 2,
      "outputs": [
        {
          "output_type": "stream",
          "name": "stdout",
          "text": [
            "Five is greater than two!\n"
          ]
        }
      ]
    },
    {
      "cell_type": "markdown",
      "source": [
        "Variable\n"
      ],
      "metadata": {
        "id": "5oflRG7u8V6-"
      }
    },
    {
      "cell_type": "code",
      "source": [
        "x=5\n",
        "y=\"I am a Student\"\n",
        "z=10.5\n",
        "print(x)\n",
        "print(y)\n",
        "print(z)"
      ],
      "metadata": {
        "colab": {
          "base_uri": "https://localhost:8080/"
        },
        "id": "siD1rxvy-KAN",
        "outputId": "b6ab3d88-51f4-416a-ca43-8a1c828d5c02"
      },
      "execution_count": 3,
      "outputs": [
        {
          "output_type": "stream",
          "name": "stdout",
          "text": [
            "5\n",
            "I am a Student\n",
            "10.5\n"
          ]
        }
      ]
    },
    {
      "cell_type": "markdown",
      "source": [
        "data type"
      ],
      "metadata": {
        "id": "_-TAhbGy-72H"
      }
    },
    {
      "cell_type": "code",
      "source": [
        "x=5\n",
        "y=\"I am a Student\"\n",
        "z=10.5\n",
        "print(type(x))\n",
        "print(type(y))\n",
        "print(type(z))\n",
        "\n",
        "#Casting\n",
        "x=str(3)\n",
        "y=int(3)\n",
        "z=float(3)\n",
        "print(x)\n",
        "print(y)\n",
        "print(z)"
      ],
      "metadata": {
        "colab": {
          "base_uri": "https://localhost:8080/"
        },
        "id": "_4J3pr2X-_Iy",
        "outputId": "2e5718a7-4870-49e5-9ab1-5727fb12e43a"
      },
      "execution_count": 4,
      "outputs": [
        {
          "output_type": "stream",
          "name": "stdout",
          "text": [
            "<class 'int'>\n",
            "<class 'str'>\n",
            "<class 'float'>\n",
            "3\n",
            "3\n",
            "3.0\n"
          ]
        }
      ]
    },
    {
      "cell_type": "markdown",
      "source": [
        "multi word variable name"
      ],
      "metadata": {
        "id": "z5YhIKc0_76z"
      }
    },
    {
      "cell_type": "code",
      "source": [
        "#Camel Case(Each word,except the first starts with capital letter)\n",
        "\n",
        "myVariableName=\"Md. Mobarak Hossain\"\n",
        "\n",
        "#Pascal Case(Each word starts with a capital letter)\n",
        "\n",
        "MyVariableName=\"Md. Mobarak Hossain\"\n",
        "\n",
        "#Snake Case(Each word is separated by an underscore character)\n",
        "\n",
        "my_variable_name=\"Md. Mobarak Hossain\"\n"
      ],
      "metadata": {
        "id": "wuwqj0wx__XT"
      },
      "execution_count": null,
      "outputs": []
    },
    {
      "cell_type": "markdown",
      "source": [
        "multiple value assign"
      ],
      "metadata": {
        "id": "q_bJkesWA-Cm"
      }
    },
    {
      "cell_type": "code",
      "source": [
        "x,y,z=\"Mobarak\",\"Shafiul\",\"Masum\"\n",
        "print(x)\n",
        "print(y)\n",
        "print(z)"
      ],
      "metadata": {
        "colab": {
          "base_uri": "https://localhost:8080/"
        },
        "id": "tay5PvhqBBKm",
        "outputId": "fed2df1b-aa8f-47d6-e75b-3d99534d0409"
      },
      "execution_count": 5,
      "outputs": [
        {
          "output_type": "stream",
          "name": "stdout",
          "text": [
            "Mobarak\n",
            "Shafiul\n",
            "Masum\n"
          ]
        }
      ]
    },
    {
      "cell_type": "markdown",
      "source": [
        "one value to multiple variable"
      ],
      "metadata": {
        "id": "aqHvhyxKBWen"
      }
    },
    {
      "cell_type": "code",
      "source": [
        "x=y=z=5\n",
        "sum=x+y+z\n",
        "print(sum)\n"
      ],
      "metadata": {
        "colab": {
          "base_uri": "https://localhost:8080/"
        },
        "id": "oBkdTZb4BiIn",
        "outputId": "0e8d0b0c-94b1-4f12-bca9-f60bb0c9ab85"
      },
      "execution_count": 8,
      "outputs": [
        {
          "output_type": "stream",
          "name": "stdout",
          "text": [
            "15\n"
          ]
        }
      ]
    },
    {
      "cell_type": "markdown",
      "source": [
        "Unpack a list"
      ],
      "metadata": {
        "id": "XKLlmi8DCHsf"
      }
    },
    {
      "cell_type": "code",
      "source": [
        "country=[\"Bangladesh\",\"India\",\"Pakistan\"]\n",
        "x,y,z=country\n",
        "print(x)\n",
        "print(y)\n",
        "print(z)"
      ],
      "metadata": {
        "colab": {
          "base_uri": "https://localhost:8080/"
        },
        "id": "eY-8Baw7CMlG",
        "outputId": "c731836e-30c4-42fc-8aee-f08210f083aa"
      },
      "execution_count": 9,
      "outputs": [
        {
          "output_type": "stream",
          "name": "stdout",
          "text": [
            "Bangladesh\n",
            "India\n",
            "Pakistan\n"
          ]
        }
      ]
    },
    {
      "cell_type": "markdown",
      "source": [
        "print multiple variable"
      ],
      "metadata": {
        "id": "_V7fbNORCVad"
      }
    },
    {
      "cell_type": "code",
      "source": [
        "x=10\n",
        "y=\"Mobarak\"\n",
        "z=10.5\n",
        "print(x,y,z)"
      ],
      "metadata": {
        "colab": {
          "base_uri": "https://localhost:8080/"
        },
        "id": "eg0n6cUNCkL2",
        "outputId": "3746869d-88b7-48aa-e289-8f454cd86ebd"
      },
      "execution_count": 10,
      "outputs": [
        {
          "output_type": "stream",
          "name": "stdout",
          "text": [
            "10 Mobarak 10.5\n"
          ]
        }
      ]
    },
    {
      "cell_type": "markdown",
      "source": [],
      "metadata": {
        "id": "eX9KBntFDOuh"
      }
    }
  ]
}